{
 "cells": [
  {
   "cell_type": "markdown",
   "id": "c87eeb8a",
   "metadata": {},
   "source": [
    "Before you turn this problem in, make sure everything runs as expected. First, **restart the kernel** (in the menubar, select Kernel $\\rightarrow$ Restart) and then **run all cells** (in the menubar, select Cell $\\rightarrow$ Run All).\n",
    "\n",
    "Make sure you fill in any place that says `YOUR CODE HERE` or \"YOUR ANSWER HERE\", as well as your name and collaborators below:"
   ]
  },
  {
   "cell_type": "code",
   "execution_count": null,
   "id": "7ce8ccf0",
   "metadata": {},
   "outputs": [],
   "source": [
    "NAME = \"\"\n",
    "COLLABORATORS = \"\""
   ]
  },
  {
   "cell_type": "markdown",
   "id": "2ede6c20",
   "metadata": {},
   "source": [
    "---"
   ]
  },
  {
   "cell_type": "markdown",
   "id": "cbd763ac-96c1-4a97-acdf-23d5d972c404",
   "metadata": {
    "editable": true,
    "slideshow": {
     "slide_type": "slide"
    },
    "tags": [
     "remove_cell_latex"
    ]
   },
   "source": [
    "<img align=\"right\" src=\"../../../includes/sdu.png\" width=100 />\n",
    "<br><br><br>\n",
    "<p style=\"color: #789D4A;font-family: courier;font-size: 160%;text-align:center;\">Optimization and Image Processing (E24)</p> \n",
    "<p style=\"color: #789D4A;font-family: courier;font-size: 120%;text-align:center;\">Lecture 02</p> \n",
    "\n",
    "<p style=\"color: #789D4A;font-family: courier;font-size: 120%;text-align:center;\">Dr Till Leissner, Associate Professor</p> \n",
    "<p style=\"color: #789D4A;font-family: courier;font-size: 120%;text-align:center;\">Mads Clausen Institute, University of Southern Denmark</p> \n"
   ]
  },
  {
   "cell_type": "markdown",
   "id": "bede0f01-54d4-4dd6-a19c-7a6708ce6a8a",
   "metadata": {
    "slideshow": {
     "slide_type": "fragment"
    },
    "tags": []
   },
   "source": []
  },
  {
   "attachments": {
    "5f89087e-9dbd-43b0-89e3-82cc2e7940ac.png": {
     "image/png": "[encoded data removed]"
    }
   },
   "cell_type": "markdown",
   "id": "4c8d4da1-3045-4976-9703-e2163897b76d",
   "metadata": {
    "slideshow": {
     "slide_type": "subslide"
    },
    "tags": []
   },
   "source": [
    "## Exit questions\n",
    "\n",
    "Please respond to them on <a href=\"https://pollev.com/tillleissner408\">https://pollev.com/tillleissner408<a>\n",
    "\n",
    "![qrpoll.png](attachment:5f89087e-9dbd-43b0-89e3-82cc2e7940ac.png)"
   ]
  }
 ],
 "metadata": {
  "author": "Till Leissner",
  "kernelspec": {
   "display_name": "Python [conda env:oip]",
   "language": "python",
   "name": "conda-env-oip-py"
  },
  "language_info": {
   "codemirror_mode": {
    "name": "ipython",
    "version": 3
   },
   "file_extension": ".py",
   "mimetype": "text/x-python",
   "name": "python",
   "nbconvert_exporter": "python",
   "pygments_lexer": "ipython3",
   "version": "3.13.5"
  },
  "latex_envs": {
   "LaTeX_envs_menu_present": true,
   "autoclose": false,
   "autocomplete": true,
   "bibliofile": "biblio.bib",
   "cite_by": "apalike",
   "current_citInitial": 1,
   "eqLabelWithNumbers": true,
   "eqNumInitial": 1,
   "hotkeys": {
    "equation": "Ctrl-E",
    "itemize": "Ctrl-I"
   },
   "labels_anchors": false,
   "latex_user_defs": false,
   "report_style_numbering": false,
   "user_envs_cfg": false
  },
  "latex_metadata": {
   "affiliation": "Mads Clausen Institute, SDU",
   "author": "Till Leissner",
   "course": "OIP",
   "date": "September 2023",
   "deadline": "",
   "email": "till@mci.sdu.dk",
   "term": "2023",
   "title": "Week 01"
  },
  "rise": {
   "autolaunch": false,
   "backimage": "../../../includes/risebackground.png",
   "enable_chalkboard": true,
   "footer": "<h3 style='margin: 0px 0 5px 10px;text-transform: none;'>Till Leissner (till@mci.sdu.dk)</h3>",
   "header": "<h3 style='margin: 5px 0 0px 10px;text-transform: none;'>OIP &mdash; Lecture 1</h3>",
   "scroll": true,
   "width": "100%"
  },
  "title": "OIP - Week 01",
  "toc": {
   "base_numbering": 1,
   "nav_menu": {},
   "number_sections": true,
   "sideBar": true,
   "skip_h1_title": false,
   "title_cell": "Table of Contents",
   "title_sidebar": "Contents",
   "toc_cell": true,
   "toc_position": {},
   "toc_section_display": true,
   "toc_window_display": false
  },
  "toc-autonumbering": true,
  "toc-showmarkdowntxt": false,
  "toc-showtags": false,
  "varInspector": {
   "cols": {
    "lenName": 16,
    "lenType": 16,
    "lenVar": 40
   },
   "kernels_config": {
    "python": {
     "delete_cmd_postfix": "",
     "delete_cmd_prefix": "del ",
     "library": "var_list.py",
     "varRefreshCmd": "print(var_dic_list())"
    },
    "r": {
     "delete_cmd_postfix": ") ",
     "delete_cmd_prefix": "rm(",
     "library": "var_list.r",
     "varRefreshCmd": "cat(var_dic_list()) "
    }
   },
   "types_to_exclude": [
    "module",
    "function",
    "builtin_function_or_method",
    "instance",
    "_Feature"
   ],
   "window_display": false
  }
 },
 "nbformat": 4,
 "nbformat_minor": 5
}

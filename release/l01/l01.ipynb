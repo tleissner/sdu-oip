{
 "cells": [
  {
   "cell_type": "markdown",
   "id": "6918106b",
   "metadata": {},
   "source": [
    "Before you turn this problem in, make sure everything runs as expected. First, **restart the kernel** (in the menubar, select Kernel $\\rightarrow$ Restart) and then **run all cells** (in the menubar, select Cell $\\rightarrow$ Run All).\n",
    "\n",
    "Make sure you fill in any place that says `YOUR CODE HERE` or \"YOUR ANSWER HERE\", as well as your name and collaborators below:"
   ]
  },
  {
   "cell_type": "code",
   "execution_count": null,
   "id": "93af9745",
   "metadata": {},
   "outputs": [],
   "source": [
    "NAME = \"\"\n",
    "COLLABORATORS = \"\""
   ]
  },
  {
   "cell_type": "markdown",
   "id": "80adcf40",
   "metadata": {},
   "source": [
    "---"
   ]
  },
  {
   "cell_type": "markdown",
   "id": "cbd763ac-96c1-4a97-acdf-23d5d972c404",
   "metadata": {
    "editable": true,
    "slideshow": {
     "slide_type": "slide"
    },
    "tags": [
     "remove_cell_latex"
    ]
   },
   "source": [
    "<img align=\"right\" src=\"../../../includes/sdu.png\" width=100 />\n",
    "<br><br><br>\n",
    "<p style=\"color: #789D4A;font-family: courier;font-size: 160%;text-align:center;\">Optimization and Image Processing (E25)</p> \n",
    "\n",
    "<p style=\"color: #789D4A;font-family: courier;font-size: 120%;text-align:center;\">Dr Till Leissner, Associate Professor</p> \n",
    "<p style=\"color: #789D4A;font-family: courier;font-size: 120%;text-align:center;\">Mads Clausen Institute, University of Southern Denmark</p> \n"
   ]
  },
  {
   "cell_type": "markdown",
   "id": "f98eaa81",
   "metadata": {},
   "source": [
    "<p style=\"color: #789D4A;font-family: courier;font-size: 120%;text-align:center;\">Lecture 01</p> "
   ]
  },
  {
   "cell_type": "markdown",
   "id": "ce775b2e-37d3-4b89-b587-8f9b1b5c0fe9",
   "metadata": {
    "slideshow": {
     "slide_type": "slide"
    },
    "tags": []
   },
   "source": [
    "# Basic linear algebra with Python"
   ]
  },
  {
   "cell_type": "markdown",
   "id": "50fed60d-f5d5-4fda-a74e-488173238cd2",
   "metadata": {
    "slideshow": {
     "slide_type": "fragment"
    },
    "tags": []
   },
   "source": [
    "- The NumPy linear algebra library offers optimized methods for matrix operations\n",
    "- Documentation: https://numpy.org/doc/stable/reference/routines.linalg.html\n",
    "- The basic data type is a n-dimensional NumPy arrays: np.array()."
   ]
  },
  {
   "cell_type": "code",
   "execution_count": null,
   "id": "f30cc00e-62aa-4516-bc54-4470ef923ecf",
   "metadata": {
    "deletable": false,
    "nbgrader": {
     "cell_type": "code",
     "checksum": "361f413ce268265db2fc49ad72443a17",
     "grade": true,
     "grade_id": "cell-cf26e2f79328fb04",
     "locked": false,
     "points": 0,
     "schema_version": 3,
     "solution": true,
     "task": false
    },
    "slideshow": {
     "slide_type": "subslide"
    },
    "tags": []
   },
   "outputs": [],
   "source": [
    "#Import the NumPY library\n",
    "# YOUR CODE HERE\n",
    "raise NotImplementedError()"
   ]
  },
  {
   "cell_type": "markdown",
   "id": "6f6c4c6e-c355-48fc-b00b-5b69db33e7d7",
   "metadata": {
    "slideshow": {
     "slide_type": "subslide"
    },
    "tags": []
   },
   "source": [
    "## Defining vectors and matrices"
   ]
  },
  {
   "cell_type": "code",
   "execution_count": null,
   "id": "d3d37c18-7a7a-45be-a014-9c2fd8b583f4",
   "metadata": {
    "deletable": false,
    "nbgrader": {
     "cell_type": "code",
     "checksum": "525bcbc5a1de79152230765810cdc064",
     "grade": true,
     "grade_id": "cell-e0d735f614070bc2",
     "locked": false,
     "points": 0,
     "schema_version": 3,
     "solution": true,
     "task": false
    },
    "slideshow": {
     "slide_type": "fragment"
    },
    "tags": []
   },
   "outputs": [],
   "source": [
    "# YOUR CODE HERE\n",
    "raise NotImplementedError()"
   ]
  },
  {
   "cell_type": "code",
   "execution_count": null,
   "id": "9c89b3a4-2918-4863-b8d2-9fe578f878d6",
   "metadata": {
    "deletable": false,
    "nbgrader": {
     "cell_type": "code",
     "checksum": "853b8b7b6fce68dfa6b6aeb8a0923c26",
     "grade": true,
     "grade_id": "cell-2a376f777f3cbae1",
     "locked": false,
     "points": 0,
     "schema_version": 3,
     "solution": true,
     "task": false
    },
    "slideshow": {
     "slide_type": "subslide"
    },
    "tags": []
   },
   "outputs": [],
   "source": [
    "# Let's define some matrices\n",
    "\n",
    "# YOUR CODE HERE\n",
    "raise NotImplementedError()"
   ]
  },
  {
   "cell_type": "code",
   "execution_count": null,
   "id": "5fc44e0b-e835-4900-a3ca-a4663438fc15",
   "metadata": {
    "deletable": false,
    "nbgrader": {
     "cell_type": "code",
     "checksum": "7f46b8b894b0f8f631089bf31bec0266",
     "grade": true,
     "grade_id": "cell-dd0145708c3284de",
     "locked": false,
     "points": 0,
     "schema_version": 3,
     "solution": true,
     "task": false
    },
    "slideshow": {
     "slide_type": "subslide"
    },
    "tags": []
   },
   "outputs": [],
   "source": [
    "# Some helpful tools to create matrices\n",
    "\n",
    "# YOUR CODE HERE\n",
    "raise NotImplementedError()"
   ]
  },
  {
   "cell_type": "code",
   "execution_count": null,
   "id": "7ac6f0a2-6f74-4202-a2be-7f29006c89cc",
   "metadata": {
    "slideshow": {
     "slide_type": "subslide"
    },
    "tags": []
   },
   "outputs": [],
   "source": [
    "#indexing elements\n",
    "\n",
    "# three-by-three (m = 3, n = 3) matrix\n",
    "A = np.array([[5, 6, 1], [3, 8, 0], [2, 3, 7]])\n",
    "print(A)"
   ]
  },
  {
   "cell_type": "code",
   "execution_count": null,
   "id": "141e1f03-53c4-4ebc-bd0d-e5a699aa03b8",
   "metadata": {
    "deletable": false,
    "nbgrader": {
     "cell_type": "code",
     "checksum": "71436b21e04180054a5b40132f5e18fd",
     "grade": true,
     "grade_id": "cell-89cb25c12bb878cc",
     "locked": false,
     "points": 0,
     "schema_version": 3,
     "solution": true,
     "task": false
    },
    "slideshow": {
     "slide_type": "fragment"
    },
    "tags": []
   },
   "outputs": [],
   "source": [
    "# YOUR CODE HERE\n",
    "raise NotImplementedError()"
   ]
  },
  {
   "cell_type": "code",
   "execution_count": null,
   "id": "aaed690e-a609-4a38-8777-1ef06014dea6",
   "metadata": {
    "deletable": false,
    "nbgrader": {
     "cell_type": "code",
     "checksum": "745be27169f059a3f19a1c71329c84e6",
     "grade": true,
     "grade_id": "cell-1cd3d3efc15e5639",
     "locked": false,
     "points": 0,
     "schema_version": 3,
     "solution": true,
     "task": false
    },
    "slideshow": {
     "slide_type": "fragment"
    },
    "tags": []
   },
   "outputs": [],
   "source": [
    "# YOUR CODE HERE\n",
    "raise NotImplementedError()"
   ]
  },
  {
   "cell_type": "markdown",
   "id": "7a9374b0-cc7b-417d-bbe3-fd2738eca619",
   "metadata": {
    "slideshow": {
     "slide_type": "subslide"
    },
    "tags": []
   },
   "source": [
    "## Some helpers to create matrices"
   ]
  },
  {
   "cell_type": "code",
   "execution_count": null,
   "id": "6d380d52-0db5-45c0-8b7f-6e896ba6327c",
   "metadata": {
    "deletable": false,
    "nbgrader": {
     "cell_type": "code",
     "checksum": "c749ceba95302f1dabd8ca8c4c194f1e",
     "grade": true,
     "grade_id": "cell-0681d02387b0b9f3",
     "locked": false,
     "points": 0,
     "schema_version": 3,
     "solution": true,
     "task": false
    },
    "slideshow": {
     "slide_type": "fragment"
    },
    "tags": []
   },
   "outputs": [],
   "source": [
    "# Identity matrix\n",
    "\n",
    "# YOUR CODE HERE\n",
    "raise NotImplementedError()"
   ]
  },
  {
   "cell_type": "code",
   "execution_count": null,
   "id": "bf353b8a-dad5-4d76-b5d0-f109a63a25f4",
   "metadata": {
    "deletable": false,
    "nbgrader": {
     "cell_type": "code",
     "checksum": "bb29f3f482e3200e989ae66c7b5595c0",
     "grade": true,
     "grade_id": "cell-9566957974a15912",
     "locked": false,
     "points": 0,
     "schema_version": 3,
     "solution": true,
     "task": false
    },
    "slideshow": {
     "slide_type": "fragment"
    },
    "tags": []
   },
   "outputs": [],
   "source": [
    "# Matrices with one and zeros\n",
    "# YOUR CODE HERE\n",
    "raise NotImplementedError()"
   ]
  },
  {
   "cell_type": "code",
   "execution_count": null,
   "id": "0d2aa7f3-0958-4898-84d8-5ae8cf5c8de8",
   "metadata": {
    "deletable": false,
    "nbgrader": {
     "cell_type": "code",
     "checksum": "dd7d7383d463df5e9f7cbf35c987ad42",
     "grade": true,
     "grade_id": "cell-0cadbf13343d54b3",
     "locked": false,
     "points": 0,
     "schema_version": 3,
     "solution": true,
     "task": false
    },
    "slideshow": {
     "slide_type": ""
    },
    "tags": []
   },
   "outputs": [],
   "source": [
    "# YOUR CODE HERE\n",
    "raise NotImplementedError()"
   ]
  },
  {
   "cell_type": "code",
   "execution_count": null,
   "id": "d2d3d0a2-b845-4d98-a217-9b8651116bd9",
   "metadata": {
    "deletable": false,
    "nbgrader": {
     "cell_type": "code",
     "checksum": "0f1ffa807a7f0b291a118ab61b559373",
     "grade": true,
     "grade_id": "cell-b88f3f3c2ca179c2",
     "locked": false,
     "points": 0,
     "schema_version": 3,
     "solution": true,
     "task": false
    },
    "slideshow": {
     "slide_type": ""
    },
    "tags": []
   },
   "outputs": [],
   "source": [
    "C = a.reshape([2,3]) \n",
    "\n",
    "# YOUR CODE HERE\n",
    "raise NotImplementedError()"
   ]
  },
  {
   "cell_type": "markdown",
   "id": "e00ca3b0-debd-4605-9a34-e61018a8bafb",
   "metadata": {
    "slideshow": {
     "slide_type": "subslide"
    },
    "tags": []
   },
   "source": [
    "## Basic matrix operations"
   ]
  },
  {
   "cell_type": "markdown",
   "id": "9f401809-ee80-40eb-b9ca-017d918c2dbf",
   "metadata": {
    "slideshow": {
     "slide_type": "fragment"
    }
   },
   "source": [
    "### Transpose\n",
    "\n",
    "- Transposing a matrix is a straightforward operation. It involves writing the rows as columns or the columns as rows."
   ]
  },
  {
   "cell_type": "code",
   "execution_count": null,
   "id": "43a7ab9d-6dd5-4194-9efa-c89d0d7f8be3",
   "metadata": {
    "slideshow": {
     "slide_type": "subslide"
    },
    "tags": []
   },
   "outputs": [],
   "source": [
    "# Of course, this can be done manually:\n",
    "# define matrix size\n",
    "\n",
    "m = 6000  # number of rows\n",
    "n = 2500  # number of columns\n",
    "\n",
    "# randomly initialise matrix\n",
    "A = np.random.rand(m, n)\n",
    "print(A)\n",
    "\n"
   ]
  },
  {
   "cell_type": "markdown",
   "id": "9ba06144-4454-49fa-8e92-b0f48d49eca4",
   "metadata": {
    "slideshow": {
     "slide_type": "fragment"
    },
    "tags": []
   },
   "source": [
    "<div class=\"alert alert-block alert-warning\">\n",
    "<b>Exercise:</b> Write a nested for loop to transpose the matrix.\n",
    "</div>"
   ]
  },
  {
   "cell_type": "code",
   "execution_count": null,
   "id": "8a336c84-9959-4f7b-b899-8e6add362f7e",
   "metadata": {
    "deletable": false,
    "nbgrader": {
     "cell_type": "code",
     "checksum": "7b75e0a5d846ec30c4889486b3d6dcc8",
     "grade": true,
     "grade_id": "cell-1f08cee8b970f0b2",
     "locked": false,
     "points": 0,
     "schema_version": 3,
     "solution": true,
     "task": false
    },
    "slideshow": {
     "slide_type": "subslide"
    },
    "tags": []
   },
   "outputs": [],
   "source": [
    "%%timeit -r 1 -n 1\n",
    "\n",
    "# YOUR CODE HERE\n",
    "raise NotImplementedError()\n",
    "print(A_transpose)"
   ]
  },
  {
   "cell_type": "markdown",
   "id": "d9aa865f-e001-42f5-bd2f-55ab015a37b0",
   "metadata": {
    "slideshow": {
     "slide_type": "subslide"
    },
    "tags": []
   },
   "source": [
    "We can do the same using the scipy or numpy transpose function:"
   ]
  },
  {
   "cell_type": "code",
   "execution_count": null,
   "id": "e8d64641-db51-487c-9c61-60104c57dab5",
   "metadata": {
    "deletable": false,
    "nbgrader": {
     "cell_type": "code",
     "checksum": "59166f62bff64c8c41608dd48062e2c7",
     "grade": true,
     "grade_id": "cell-409ee5eff68a1476",
     "locked": false,
     "points": 0,
     "schema_version": 3,
     "solution": true,
     "task": false
    },
    "slideshow": {
     "slide_type": "subslide"
    },
    "tags": []
   },
   "outputs": [],
   "source": [
    "%%timeit -r 1 -n 1\n",
    "# YOUR CODE HERE\n",
    "raise NotImplementedError()"
   ]
  },
  {
   "cell_type": "markdown",
   "id": "1466ee47-bdb4-4c57-b7fe-54fb90d40448",
   "metadata": {
    "slideshow": {
     "slide_type": "subslide"
    },
    "tags": []
   },
   "source": [
    "### Rank of an array\n",
    "\n",
    "Number of linearly independent column vectors in matrix A is called the rank of A."
   ]
  },
  {
   "cell_type": "code",
   "execution_count": null,
   "id": "4dba2665-ba62-4487-ae47-715d4cfae267",
   "metadata": {
    "deletable": false,
    "nbgrader": {
     "cell_type": "code",
     "checksum": "9cb8e1a5d3bf30413d4d63c01ddbc7e4",
     "grade": true,
     "grade_id": "cell-dd3ca9b3d500c88a",
     "locked": false,
     "points": 0,
     "schema_version": 3,
     "solution": true,
     "task": false
    },
    "slideshow": {
     "slide_type": "fragment"
    },
    "tags": []
   },
   "outputs": [],
   "source": [
    "# YOUR CODE HERE\n",
    "raise NotImplementedError()"
   ]
  },
  {
   "cell_type": "markdown",
   "id": "0c52219f-b5e3-43cc-af8e-bfc15eede48c",
   "metadata": {
    "slideshow": {
     "slide_type": "subslide"
    },
    "tags": []
   },
   "source": [
    "### Determinant of an array"
   ]
  },
  {
   "cell_type": "code",
   "execution_count": null,
   "id": "256753e8-af63-4792-9755-b9136ecf39e2",
   "metadata": {
    "slideshow": {
     "slide_type": "fragment"
    },
    "tags": []
   },
   "outputs": [],
   "source": [
    "# define matrix size\n",
    "m = 3  # number of rows\n",
    "n = 3  # number of columns\n",
    "\n",
    "# randomly initialise matrix\n",
    "A = np.random.rand(m, n)\n",
    "print(A)"
   ]
  },
  {
   "cell_type": "code",
   "execution_count": null,
   "id": "5d84a6a3-1fbd-4d45-abda-82529b2ce4f0",
   "metadata": {
    "deletable": false,
    "nbgrader": {
     "cell_type": "code",
     "checksum": "2c73cdf63e8b905d69fbe65f5404d3e0",
     "grade": true,
     "grade_id": "cell-81ba3db0b4cd81c2",
     "locked": false,
     "points": 0,
     "schema_version": 3,
     "solution": true,
     "task": false
    },
    "slideshow": {
     "slide_type": "fragment"
    },
    "tags": []
   },
   "outputs": [],
   "source": [
    "# Using numpy\n",
    "\n",
    "# YOUR CODE HERE\n",
    "raise NotImplementedError()\n",
    "\n",
    "print('The determinant of A is detA = {:.2}.'.format(detA))"
   ]
  },
  {
   "cell_type": "markdown",
   "id": "fdddbda5-2086-4a2f-9e7f-4c81245131b9",
   "metadata": {
    "slideshow": {
     "slide_type": "subslide"
    },
    "tags": []
   },
   "source": [
    "### Eigenvalues of a general matrix"
   ]
  },
  {
   "cell_type": "code",
   "execution_count": null,
   "id": "b62eb0af-f4e2-4717-9c3e-f77f6cc44166",
   "metadata": {
    "deletable": false,
    "nbgrader": {
     "cell_type": "code",
     "checksum": "13ab8372b31ab8b995b28eb946a05d38",
     "grade": true,
     "grade_id": "cell-3e70d3da9858f7e6",
     "locked": false,
     "points": 0,
     "schema_version": 3,
     "solution": true,
     "task": false
    },
    "slideshow": {
     "slide_type": "fragment"
    },
    "tags": []
   },
   "outputs": [],
   "source": [
    "# For this we need to make use of another library!\n",
    "import scipy.linalg as la\n",
    "import numpy as np\n",
    "\n",
    "A= np.array([[6,2,3],[2,1,2],[1,3,1]])\n",
    "# Compute the eigenvalues and right eigenvectors of a square array.\n",
    "\n",
    "# YOUR CODE HERE\n",
    "raise NotImplementedError()\n",
    "\n",
    "print(\"Eigen Vector of A:\", v)\n",
    "print(\"Eigen value of A:\", w)\n",
    "\n",
    "# see https://numpy.org/doc/stable/reference/generated/numpy.linalg.eig.html"
   ]
  },
  {
   "cell_type": "markdown",
   "id": "842de9c3-5a11-452a-878c-4ab74a32b4bd",
   "metadata": {
    "slideshow": {
     "slide_type": "subslide"
    },
    "tags": []
   },
   "source": [
    "### Other Matrix Properties"
   ]
  },
  {
   "cell_type": "code",
   "execution_count": null,
   "id": "1af00c2e-cfa5-46ec-abc3-41db215f921f",
   "metadata": {
    "deletable": false,
    "nbgrader": {
     "cell_type": "code",
     "checksum": "fd5cfec989988074cdeebce5659f3e07",
     "grade": true,
     "grade_id": "cell-c7d92880b39d01a9",
     "locked": false,
     "points": 0,
     "schema_version": 3,
     "solution": true,
     "task": false
    },
    "slideshow": {
     "slide_type": "fragment"
    },
    "tags": []
   },
   "outputs": [],
   "source": [
    "# The norm of a matrix or vector is returned by the function np.linalg.norm:\n",
    "\n",
    "# YOUR CODE HERE\n",
    "raise NotImplementedError()\n",
    "\n",
    "A "
   ]
  },
  {
   "cell_type": "code",
   "execution_count": null,
   "id": "292bcdf4-1473-468b-8166-e3ad484d8fe5",
   "metadata": {
    "deletable": false,
    "nbgrader": {
     "cell_type": "code",
     "checksum": "3f470fd0e1341d56658a7c7e2fbdb128",
     "grade": true,
     "grade_id": "cell-61b93b0fe224c7fa",
     "locked": false,
     "points": 0,
     "schema_version": 3,
     "solution": true,
     "task": false
    },
    "slideshow": {
     "slide_type": "fragment"
    },
    "tags": []
   },
   "outputs": [],
   "source": [
    "# The trace (return the sum along diagonals of the array) of a matrix  is returned by the function np.linalg.trace:\n",
    "print(A)\n",
    "\n",
    "# YOUR CODE HERE\n",
    "raise NotImplementedError()"
   ]
  },
  {
   "cell_type": "markdown",
   "id": "53baec93-bc88-41ca-95db-66949481fcb4",
   "metadata": {
    "slideshow": {
     "slide_type": "slide"
    },
    "tags": []
   },
   "source": [
    "## Matrix multiplication"
   ]
  },
  {
   "cell_type": "markdown",
   "id": "d3eaab6f-daeb-4ab1-92af-a347dc43ad14",
   "metadata": {},
   "source": [
    "<div class=\"alert alert-block alert-warning\">\n",
    "<b>Try yourself:</b></div>\n",
    "\n",
    "- Define two 3x3 matrices $A$ and $B$ and a vector $x$.\n",
    "- Calculate the product of the two matrices using 'pen and paper'.\n",
    "- Multiply the matrices with each other using the '*' operator in Python. What do you observe?\n",
    "- Multiply a matrix with the vector. What do you observe?\n"
   ]
  },
  {
   "cell_type": "markdown",
   "id": "606e6ccc-41a9-4f6f-b8af-ca42e8859197",
   "metadata": {
    "slideshow": {
     "slide_type": ""
    },
    "tags": []
   },
   "source": [
    "Let's define some vectors and matrices:"
   ]
  },
  {
   "cell_type": "code",
   "execution_count": null,
   "id": "763016c1-e9c3-4a80-8f8d-a7ea89dfd6c3",
   "metadata": {
    "deletable": false,
    "nbgrader": {
     "cell_type": "code",
     "checksum": "8ec563f1ed8a6f8992fee96ef7f56fde",
     "grade": true,
     "grade_id": "cell-edcc44972956d05d",
     "locked": false,
     "points": 0,
     "schema_version": 3,
     "solution": true,
     "task": false
    },
    "slideshow": {
     "slide_type": "fragment"
    },
    "tags": []
   },
   "outputs": [],
   "source": [
    "# YOUR CODE HERE\n",
    "raise NotImplementedError()"
   ]
  },
  {
   "cell_type": "markdown",
   "id": "ba21ed79-a8f7-4b27-a9ca-1a9d155cffd1",
   "metadata": {
    "slideshow": {
     "slide_type": "subslide"
    },
    "tags": []
   },
   "source": [
    "### Elementwise multiplication"
   ]
  },
  {
   "cell_type": "code",
   "execution_count": null,
   "id": "b7732f7e-d786-49d0-8104-de1fb576d525",
   "metadata": {
    "deletable": false,
    "nbgrader": {
     "cell_type": "code",
     "checksum": "83244ee40e34551b82b99811c9180317",
     "grade": true,
     "grade_id": "cell-5c951d19ef42fa57",
     "locked": false,
     "points": 0,
     "schema_version": 3,
     "solution": true,
     "task": false
    },
    "slideshow": {
     "slide_type": "fragment"
    },
    "tags": []
   },
   "outputs": [],
   "source": [
    "# YOUR CODE HERE\n",
    "raise NotImplementedError()\n",
    "print(C)"
   ]
  },
  {
   "cell_type": "markdown",
   "id": "7f2b2fbd-5aa4-4161-833e-2acdc45b6544",
   "metadata": {
    "slideshow": {
     "slide_type": "subslide"
    },
    "tags": []
   },
   "source": [
    "### Scalar-matrix multiplication"
   ]
  },
  {
   "cell_type": "code",
   "execution_count": null,
   "id": "b990fe2e-e759-4f42-9f0c-54d9399b1268",
   "metadata": {
    "deletable": false,
    "nbgrader": {
     "cell_type": "code",
     "checksum": "94244ee8d7e3881417fa239d20a94486",
     "grade": true,
     "grade_id": "cell-811cfdf98ecedcfc",
     "locked": false,
     "points": 0,
     "schema_version": 3,
     "solution": true,
     "task": false
    },
    "slideshow": {
     "slide_type": "fragment"
    },
    "tags": []
   },
   "outputs": [],
   "source": [
    "a=5\n",
    "\n",
    "# YOUR CODE HERE\n",
    "raise NotImplementedError()\n",
    "\n",
    "print(D)"
   ]
  },
  {
   "cell_type": "markdown",
   "id": "6cacfe1d-4710-4b9e-aa5e-ae8bdc4093d2",
   "metadata": {
    "slideshow": {
     "slide_type": "subslide"
    },
    "tags": []
   },
   "source": [
    "### Matrix-matrix multiplication"
   ]
  },
  {
   "cell_type": "code",
   "execution_count": null,
   "id": "ef0e7d8e-4eb3-4826-8bad-dd265911fefc",
   "metadata": {
    "deletable": false,
    "nbgrader": {
     "cell_type": "code",
     "checksum": "d703dfcf6bc30e33f3129d380a5772e0",
     "grade": true,
     "grade_id": "cell-1f0fe4bfc8a5cbdd",
     "locked": false,
     "points": 0,
     "schema_version": 3,
     "solution": true,
     "task": false
    },
    "slideshow": {
     "slide_type": "fragment"
    },
    "tags": []
   },
   "outputs": [],
   "source": [
    "# YOUR CODE HERE\n",
    "raise NotImplementedError()\n",
    "\n",
    "print(E)"
   ]
  },
  {
   "cell_type": "code",
   "execution_count": null,
   "id": "56b7d0f4-3016-4077-bf8a-7646351d2612",
   "metadata": {
    "deletable": false,
    "nbgrader": {
     "cell_type": "code",
     "checksum": "04c866680371b344700d195222742312",
     "grade": true,
     "grade_id": "cell-6bedfd672733bffd",
     "locked": false,
     "points": 0,
     "schema_version": 3,
     "solution": true,
     "task": false
    },
    "slideshow": {
     "slide_type": "fragment"
    },
    "tags": []
   },
   "outputs": [],
   "source": [
    "# YOUR CODE HERE\n",
    "raise NotImplementedError()\n",
    "print(F)"
   ]
  },
  {
   "cell_type": "code",
   "execution_count": null,
   "id": "21ce6735-8ec2-4f35-8558-b809dae2c914",
   "metadata": {
    "deletable": false,
    "nbgrader": {
     "cell_type": "code",
     "checksum": "48ceb4d61ba58a0f16ca6139370a072a",
     "grade": true,
     "grade_id": "cell-98b31dbb86847613",
     "locked": false,
     "points": 0,
     "schema_version": 3,
     "solution": true,
     "task": false
    },
    "slideshow": {
     "slide_type": "fragment"
    },
    "tags": []
   },
   "outputs": [],
   "source": [
    "# YOUR CODE HERE\n",
    "raise NotImplementedError()"
   ]
  },
  {
   "cell_type": "markdown",
   "id": "98992eb3-882e-4d4e-8e4f-50c4de621ff9",
   "metadata": {
    "slideshow": {
     "slide_type": "subslide"
    },
    "tags": []
   },
   "source": [
    "### Matrix-vector products"
   ]
  },
  {
   "cell_type": "code",
   "execution_count": null,
   "id": "9607c536-4e36-4a34-b34c-f299c0e42ff5",
   "metadata": {
    "deletable": false,
    "nbgrader": {
     "cell_type": "code",
     "checksum": "278b9554bb4d1961ef1e46f8a1d0e029",
     "grade": true,
     "grade_id": "cell-ab274a792359d554",
     "locked": false,
     "points": 0,
     "schema_version": 3,
     "solution": true,
     "task": false
    },
    "slideshow": {
     "slide_type": "fragment"
    },
    "tags": []
   },
   "outputs": [],
   "source": [
    "# YOUR CODE HERE\n",
    "raise NotImplementedError()\n",
    "\n",
    "print(G)"
   ]
  },
  {
   "cell_type": "code",
   "execution_count": null,
   "id": "effcfcd9-467b-48ea-b67c-2ea4a1509c0e",
   "metadata": {
    "deletable": false,
    "nbgrader": {
     "cell_type": "code",
     "checksum": "9ef28bf90982d77d967bf834330e31b0",
     "grade": true,
     "grade_id": "cell-7de3e82cfb1af2a9",
     "locked": false,
     "points": 0,
     "schema_version": 3,
     "solution": true,
     "task": false
    },
    "slideshow": {
     "slide_type": "fragment"
    },
    "tags": []
   },
   "outputs": [],
   "source": [
    "# YOUR CODE HERE\n",
    "raise NotImplementedError()\n",
    "\n",
    "print(G)"
   ]
  },
  {
   "cell_type": "markdown",
   "id": "78dc09a2-fe21-413e-80d6-d368077204ed",
   "metadata": {
    "slideshow": {
     "slide_type": "subslide"
    },
    "tags": []
   },
   "source": [
    "numpy.dot(a, b, out=None)\n",
    "Dot product of two arrays. Specifically,\n",
    "\n",
    "- If both a and b are 1-D arrays, it is inner product of vectors (without complex conjugation).\n",
    "- If both a and b are 2-D arrays, it is matrix multiplication, but using matmul or a @ b is preferred.\n",
    "- If either a or b is 0-D (scalar), it is equivalent to multiply and using numpy.multiply(a, b) or a * b is preferred.\n",
    "- If a is an N-D array and b is a 1-D array, it is a sum product over the last axis of a and b.\n",
    "- If a is an N-D array and b is an M-D array (where M>=2), it is a sum product over the last axis of a and the second-to-last axis of b:\n",
    "\n",
    "dot(a, b)[i,j,k,m] = sum(a[i,j,:] * b[k,:,m])\n",
    "\n",
    "See: https://numpy.org/doc/stable/reference/generated/numpy.dot.html"
   ]
  },
  {
   "cell_type": "markdown",
   "id": "aac72272-3e95-4b82-a417-4127440b63bd",
   "metadata": {
    "slideshow": {
     "slide_type": "subslide"
    },
    "tags": []
   },
   "source": [
    "## Vector products"
   ]
  },
  {
   "cell_type": "code",
   "execution_count": null,
   "id": "83d04161-205b-49d7-932b-cd79ead64c29",
   "metadata": {
    "slideshow": {
     "slide_type": "fragment"
    },
    "tags": []
   },
   "outputs": [],
   "source": [
    "a=np.array([1,2,0])\n",
    "b=np.array([3,1,1])"
   ]
  },
  {
   "cell_type": "code",
   "execution_count": null,
   "id": "80a826c1-e61e-4138-b2d7-cb941cbec08d",
   "metadata": {
    "deletable": false,
    "nbgrader": {
     "cell_type": "code",
     "checksum": "c3569fa046d16ec8167aee9f469b603e",
     "grade": true,
     "grade_id": "cell-3ed57354dd066258",
     "locked": false,
     "points": 0,
     "schema_version": 3,
     "solution": true,
     "task": false
    },
    "slideshow": {
     "slide_type": "fragment"
    },
    "tags": []
   },
   "outputs": [],
   "source": [
    "# YOUR CODE HERE\n",
    "raise NotImplementedError()"
   ]
  },
  {
   "cell_type": "code",
   "execution_count": null,
   "id": "c425dff4-a1a0-4078-a42c-893b5218ca9d",
   "metadata": {
    "deletable": false,
    "nbgrader": {
     "cell_type": "code",
     "checksum": "8e0ca19959a1fe4d217efe4773bd8c0b",
     "grade": true,
     "grade_id": "cell-a19bd0ff6744936f",
     "locked": false,
     "points": 0,
     "schema_version": 3,
     "solution": true,
     "task": false
    },
    "slideshow": {
     "slide_type": "fragment"
    },
    "tags": []
   },
   "outputs": [],
   "source": [
    "# YOUR CODE HERE\n",
    "raise NotImplementedError()"
   ]
  },
  {
   "cell_type": "code",
   "execution_count": null,
   "id": "a631b51d-33f9-4c27-bf8a-d8d2c79da2fb",
   "metadata": {
    "deletable": false,
    "nbgrader": {
     "cell_type": "code",
     "checksum": "cf037823f9044187cbe6d46be2ccb60e",
     "grade": true,
     "grade_id": "cell-e5724fb290ec828a",
     "locked": false,
     "points": 0,
     "schema_version": 3,
     "solution": true,
     "task": false
    },
    "slideshow": {
     "slide_type": "fragment"
    },
    "tags": []
   },
   "outputs": [],
   "source": [
    "#Cross-product\n",
    "# YOUR CODE HERE\n",
    "raise NotImplementedError()"
   ]
  },
  {
   "cell_type": "markdown",
   "id": "e72d5f9a-9919-43af-8be0-758bac66f146",
   "metadata": {
    "slideshow": {
     "slide_type": "slide"
    },
    "tags": []
   },
   "source": [
    "## How does NumPy stores arrays\n",
    "\n",
    "- Whatever the rank of an array, its elements are stored in sequential memory locations that are addressed by a single index \n",
    "- internally the array is 1D, but, knowing the shape of the array, Python is able to resolve a tuple of indexes into a single memory address)\n",
    "- NumPy arrays are stored in memory in C-style, row-major order\n",
    "- i.e. the elements of the last (rightmost) index stored contiguously\n",
    "- in a two-dimensional array, for example, the element a[0, 0] is followed by a[0, 1], then a[1,0], a[1,1]"
   ]
  },
  {
   "cell_type": "code",
   "execution_count": null,
   "id": "d4ca40be-99a4-42b0-b43f-2e136e4efe6d",
   "metadata": {
    "slideshow": {
     "slide_type": "subslide"
    },
    "tags": []
   },
   "outputs": [],
   "source": [
    "a = np.array( ((1, 2, 5), (3, 4, 6)) )\n",
    "a"
   ]
  },
  {
   "cell_type": "markdown",
   "id": "ed082732-d81b-41f4-bf1f-054334a746e5",
   "metadata": {
    "slideshow": {
     "slide_type": "fragment"
    },
    "tags": []
   },
   "source": [
    "The array is stored in memory as the sequential elements [1,2,3,4]."
   ]
  },
  {
   "cell_type": "markdown",
   "id": "69554c0c-893f-49ea-8198-55e85172147f",
   "metadata": {
    "slideshow": {
     "slide_type": "subslide"
    },
    "tags": []
   },
   "source": [
    "### flatten and ravel - methods"
   ]
  },
  {
   "cell_type": "markdown",
   "id": "e9c67a64-9b8d-44c1-b00a-4e43fa31111c",
   "metadata": {
    "slideshow": {
     "slide_type": "fragment"
    },
    "tags": []
   },
   "source": [
    "- if you wish to “flatten” a multidimensional array onto a single axis. NumPy provides two methods to do this: <b>flatten</b> and <b>ravel</b>. \n",
    "- ravel creates a view (faster)\n",
    "- flatten returns an independent copy"
   ]
  },
  {
   "cell_type": "code",
   "execution_count": null,
   "id": "f4e9c217-e70e-401f-97da-b3e0c9cdac90",
   "metadata": {
    "deletable": false,
    "nbgrader": {
     "cell_type": "code",
     "checksum": "79cf1570d4dd62b91a2c634578a186ff",
     "grade": true,
     "grade_id": "cell-bd6ff329705499ea",
     "locked": false,
     "points": 0,
     "schema_version": 3,
     "solution": true,
     "task": false
    },
    "slideshow": {
     "slide_type": "subslide"
    },
    "tags": []
   },
   "outputs": [],
   "source": [
    "a = np.array( [[1, 2, 3], [4, 5, 6], [7, 8, 9]] )\n",
    "# YOUR CODE HERE\n",
    "raise NotImplementedError()\n",
    "\n",
    "print(a)\n",
    "print(b)"
   ]
  },
  {
   "cell_type": "code",
   "execution_count": null,
   "id": "d76e414f-9e8c-443d-a860-d0c64a093bd7",
   "metadata": {
    "deletable": false,
    "nbgrader": {
     "cell_type": "code",
     "checksum": "a667ea89365e7fa5921d16f66489a49d",
     "grade": true,
     "grade_id": "cell-d3d624bda01a5eff",
     "locked": false,
     "points": 0,
     "schema_version": 3,
     "solution": true,
     "task": false
    },
    "slideshow": {
     "slide_type": "subslide"
    },
    "tags": []
   },
   "outputs": [],
   "source": [
    "# YOUR CODE HERE\n",
    "raise NotImplementedError()\n",
    "print(c)\n",
    "a[0,0]=99\n",
    "print(c)\n",
    "# ravel does not create an independent object!"
   ]
  },
  {
   "cell_type": "markdown",
   "id": "20d76d65-93d4-4652-860f-5867a0581a0f",
   "metadata": {
    "slideshow": {
     "slide_type": "slide"
    },
    "tags": []
   },
   "source": [
    "## Broadcasting"
   ]
  },
  {
   "cell_type": "markdown",
   "id": "617a2ab0-c34b-427c-9aa0-7331f3d0afc6",
   "metadata": {
    "slideshow": {
     "slide_type": "fragment"
    },
    "tags": []
   },
   "source": [
    "- simple operations such as addition and multiplication can be carried out elementwise on two arrays of the same shape (vectorization):"
   ]
  },
  {
   "cell_type": "code",
   "execution_count": null,
   "id": "0596d763-12f9-4e37-ae1b-4115f13bb183",
   "metadata": {
    "slideshow": {
     "slide_type": "fragment"
    },
    "tags": []
   },
   "outputs": [],
   "source": [
    "import numpy as np\n",
    "a = np.array ([1, 2, 3])\n",
    "b = np.array ([0, 10, 100])\n",
    "\n",
    "print(a)\n",
    "print(b) "
   ]
  },
  {
   "cell_type": "code",
   "execution_count": null,
   "id": "7bc741ef-9b3a-4290-a652-81200e4e4961",
   "metadata": {
    "slideshow": {
     "slide_type": "fragment"
    },
    "tags": []
   },
   "outputs": [],
   "source": [
    "a*b"
   ]
  },
  {
   "cell_type": "markdown",
   "id": "dca88bd9-94b4-418a-a24e-cdd7954a5832",
   "metadata": {
    "slideshow": {
     "slide_type": "subslide"
    },
    "tags": []
   },
   "source": [
    "- Broadcasting describes the rules that NumPy uses to carry out such operations when the arrays have different shapes.\n",
    "- This allows the operation to be carried out using precompiled C loops instead of slower, Python loops"
   ]
  },
  {
   "cell_type": "markdown",
   "id": "5182db03-5247-4281-8db8-094587dd5eac",
   "metadata": {
    "slideshow": {
     "slide_type": "fragment"
    },
    "tags": []
   },
   "source": [
    "The simplest example of broadcasting involves the operation between an array and a scalar:"
   ]
  },
  {
   "cell_type": "markdown",
   "id": "a8b835ed-288e-41ac-8cd9-8426801a594e",
   "metadata": {
    "slideshow": {
     "slide_type": "fragment"
    },
    "tags": []
   },
   "source": [
    "The dimensions of a and b are compatible:\n",
    "a: 2 x 3\n",
    "b: 1\n",
    "c: 2 x 3"
   ]
  },
  {
   "attachments": {
    "3939ad79-64fe-4bab-9d05-c9f9f44095bb.png": {
     "image/png": "[encoded data removed]"
    }
   },
   "cell_type": "markdown",
   "id": "7e150f9c-dda0-48f2-bd5f-96b480ad42e8",
   "metadata": {
    "slideshow": {
     "slide_type": "fragment"
    },
    "tags": []
   },
   "source": [
    "![broadcasting_1.png](attachment:3939ad79-64fe-4bab-9d05-c9f9f44095bb.png)"
   ]
  },
  {
   "cell_type": "code",
   "execution_count": null,
   "id": "3f536b22-caeb-4a97-a01e-0af60db63a8d",
   "metadata": {
    "deletable": false,
    "nbgrader": {
     "cell_type": "code",
     "checksum": "a4b19a55605fc9bf4fcf0b88061f328c",
     "grade": true,
     "grade_id": "cell-dce3167edd446d9d",
     "locked": false,
     "points": 0,
     "schema_version": 3,
     "solution": true,
     "task": false
    },
    "slideshow": {
     "slide_type": "fragment"
    },
    "tags": []
   },
   "outputs": [],
   "source": [
    "# YOUR CODE HERE\n",
    "raise NotImplementedError()"
   ]
  },
  {
   "cell_type": "markdown",
   "id": "5f167865-e8eb-443d-ab50-09805f48224b",
   "metadata": {
    "slideshow": {
     "slide_type": "subslide"
    },
    "tags": []
   },
   "source": [
    "<div class=\"alert alert-block alert-info\">\n",
    "<b>General Broadcasting Rules</b>\n",
    "When operating on two arrays, NumPy compares their shapes element-wise. It starts with the trailing (i.e. rightmost) dimensions and works its way left. Two dimensions are compatible when\n",
    "<ol>\n",
    "    <li> they are equal, \n",
    "    <li> one of them is 1\n",
    "<ol>\n",
    "</div>\n"
   ]
  },
  {
   "cell_type": "markdown",
   "id": "d284ef1d-9069-424d-9516-50a71598b491",
   "metadata": {
    "slideshow": {
     "slide_type": "subslide"
    },
    "tags": []
   },
   "source": [
    "In the following example, both the A and B arrays have axes with length one that are expanded to a larger size during the broadcast operation:\n",
    "\n",
    "&nbsp;| &nbsp;|&nbsp;\n",
    "-: | -: | -: |\n",
    "A      |(4d array):|  8 x 1 x 6 x 1\n",
    "B      |(3d array):|      7 x 1 x 5\n",
    "Result |(4d array):|  8 x 7 x 6 x 5"
   ]
  },
  {
   "cell_type": "code",
   "execution_count": null,
   "id": "0c629775-eb67-4767-b677-40b75086d905",
   "metadata": {
    "deletable": false,
    "nbgrader": {
     "cell_type": "code",
     "checksum": "1a8c5bac300e00e583fa5b19c5d0d2e2",
     "grade": true,
     "grade_id": "cell-47ad45c5bd0d32b0",
     "locked": false,
     "points": 0,
     "schema_version": 3,
     "solution": true,
     "task": false
    },
    "slideshow": {
     "slide_type": "fragment"
    },
    "tags": []
   },
   "outputs": [],
   "source": [
    "# YOUR CODE HERE\n",
    "raise NotImplementedError()\n",
    "\n",
    "c"
   ]
  },
  {
   "cell_type": "code",
   "execution_count": null,
   "id": "41ecfc0e-6ebd-4f05-a569-5e667433b0f7",
   "metadata": {
    "deletable": false,
    "nbgrader": {
     "cell_type": "code",
     "checksum": "8645f600812499e7dccc665fee802ae2",
     "grade": true,
     "grade_id": "cell-47d7c9f970b8f427",
     "locked": false,
     "points": 0,
     "schema_version": 3,
     "solution": true,
     "task": false
    },
    "slideshow": {
     "slide_type": "subslide"
    },
    "tags": []
   },
   "outputs": [],
   "source": [
    "# YOUR CODE HERE\n",
    "raise NotImplementedError()"
   ]
  },
  {
   "cell_type": "code",
   "execution_count": null,
   "id": "2c3c5526-4b95-46c3-9e08-d4f15cda1672",
   "metadata": {
    "slideshow": {
     "slide_type": "subslide"
    },
    "tags": []
   },
   "outputs": [],
   "source": [
    "# We can add an axis to solve the problem:\n",
    "a = np.array ([[1 , 2, 3], [4, 5, 6]])\n",
    "print(a.shape)\n",
    "d = np.array([1, 2])\n",
    "e = d[:, np.newaxis]\n",
    "print(e)\n",
    "print(e.shape)\n",
    "print(a.shape)\n",
    "\n",
    "a*e"
   ]
  },
  {
   "attachments": {
    "57201dd1-02d5-4b4f-9a39-3d73b09e6fa0.png": {
     "image/png": "[encoded data removed]"
    }
   },
   "cell_type": "markdown",
   "id": "0b6679f8-b15d-4a86-81a1-c991bf0fbcd8",
   "metadata": {
    "slideshow": {
     "slide_type": "subslide"
    },
    "tags": []
   },
   "source": [
    "![broadcasting_2.png](attachment:57201dd1-02d5-4b4f-9a39-3d73b09e6fa0.png)"
   ]
  },
  {
   "attachments": {
    "23ba724d-d13a-4eaa-b872-7b388721f68f.png": {
     "image/png": "[encoded data removed]"
    }
   },
   "cell_type": "markdown",
   "id": "19a04138-5be8-4cac-82af-90083f93d1af",
   "metadata": {
    "slideshow": {
     "slide_type": "subslide"
    },
    "tags": []
   },
   "source": [
    "![broadcasting_3.png](attachment:23ba724d-d13a-4eaa-b872-7b388721f68f.png)"
   ]
  },
  {
   "attachments": {
    "6e5e7cc4-cbbe-4936-8471-3aba959fdee7.png": {
     "image/png": "[encoded data removed]"
    }
   },
   "cell_type": "markdown",
   "id": "6b8d4a52-357a-480f-8ca5-4d32d0018448",
   "metadata": {
    "slideshow": {
     "slide_type": ""
    },
    "tags": []
   },
   "source": [
    "![broadcasting_4.png](attachment:6e5e7cc4-cbbe-4936-8471-3aba959fdee7.png)"
   ]
  },
  {
   "cell_type": "markdown",
   "id": "bede0f01-54d4-4dd6-a19c-7a6708ce6a8a",
   "metadata": {
    "slideshow": {
     "slide_type": "fragment"
    },
    "tags": []
   },
   "source": [
    "Visit https://numpy.org/doc/stable/user/basics.broadcasting.html for many further examples!"
   ]
  }
 ],
 "metadata": {
  "author": "Till Leissner",
  "kernelspec": {
   "display_name": "Python [conda env:oip]",
   "language": "python",
   "name": "conda-env-oip-py"
  },
  "language_info": {
   "codemirror_mode": {
    "name": "ipython",
    "version": 3
   },
   "file_extension": ".py",
   "mimetype": "text/x-python",
   "name": "python",
   "nbconvert_exporter": "python",
   "pygments_lexer": "ipython3",
   "version": "3.13.5"
  },
  "latex_envs": {
   "LaTeX_envs_menu_present": true,
   "autoclose": false,
   "autocomplete": true,
   "bibliofile": "biblio.bib",
   "cite_by": "apalike",
   "current_citInitial": 1,
   "eqLabelWithNumbers": true,
   "eqNumInitial": 1,
   "hotkeys": {
    "equation": "Ctrl-E",
    "itemize": "Ctrl-I"
   },
   "labels_anchors": false,
   "latex_user_defs": false,
   "report_style_numbering": false,
   "user_envs_cfg": false
  },
  "latex_metadata": {
   "affiliation": "Mads Clausen Institute, SDU",
   "author": "Till Leissner",
   "course": "OIP",
   "date": "September 2023",
   "deadline": "",
   "email": "till@mci.sdu.dk",
   "term": "2023",
   "title": "Week 01"
  },
  "rise": {
   "autolaunch": false,
   "backimage": "../../../includes/risebackground.png",
   "enable_chalkboard": true,
   "footer": "<h3 style='margin: 0px 0 5px 10px;text-transform: none;'>Till Leissner (till@mci.sdu.dk)</h3>",
   "header": "<h3 style='margin: 5px 0 0px 10px;text-transform: none;'>OIP &mdash; Lecture 1</h3>",
   "scroll": true,
   "width": "100%"
  },
  "title": "OIP - Week 01",
  "toc": {
   "base_numbering": 1,
   "nav_menu": {},
   "number_sections": true,
   "sideBar": true,
   "skip_h1_title": false,
   "title_cell": "Table of Contents",
   "title_sidebar": "Contents",
   "toc_cell": true,
   "toc_position": {},
   "toc_section_display": true,
   "toc_window_display": false
  },
  "toc-autonumbering": true,
  "toc-showmarkdowntxt": false,
  "toc-showtags": false,
  "varInspector": {
   "cols": {
    "lenName": 16,
    "lenType": 16,
    "lenVar": 40
   },
   "kernels_config": {
    "python": {
     "delete_cmd_postfix": "",
     "delete_cmd_prefix": "del ",
     "library": "var_list.py",
     "varRefreshCmd": "print(var_dic_list())"
    },
    "r": {
     "delete_cmd_postfix": ") ",
     "delete_cmd_prefix": "rm(",
     "library": "var_list.r",
     "varRefreshCmd": "cat(var_dic_list()) "
    }
   },
   "types_to_exclude": [
    "module",
    "function",
    "builtin_function_or_method",
    "instance",
    "_Feature"
   ],
   "window_display": false
  }
 },
 "nbformat": 4,
 "nbformat_minor": 5
}

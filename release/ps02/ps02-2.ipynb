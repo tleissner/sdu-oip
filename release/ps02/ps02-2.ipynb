{
 "cells": [
  {
   "cell_type": "markdown",
   "id": "cfc85005",
   "metadata": {},
   "source": [
    "Before you turn this problem in, make sure everything runs as expected. First, **restart the kernel** (in the menubar, select Kernel $\\rightarrow$ Restart) and then **run all cells** (in the menubar, select Cell $\\rightarrow$ Run All).\n",
    "\n",
    "Make sure you fill in any place that says `YOUR CODE HERE` or \"YOUR ANSWER HERE\", as well as your name and collaborators below:"
   ]
  },
  {
   "cell_type": "code",
   "execution_count": null,
   "id": "22e1d8f5",
   "metadata": {},
   "outputs": [],
   "source": [
    "NAME = \"\"\n",
    "COLLABORATORS = \"\""
   ]
  },
  {
   "cell_type": "markdown",
   "id": "cf14c03e",
   "metadata": {},
   "source": [
    "---"
   ]
  },
  {
   "cell_type": "markdown",
   "id": "0230da2e-c3b0-4fdf-8695-fa79265fca02",
   "metadata": {
    "deletable": false,
    "editable": false,
    "nbgrader": {
     "cell_type": "markdown",
     "checksum": "fa2cf441784e3cc7524c56c1edfc83bf",
     "grade": false,
     "grade_id": "cell-b603585957c91674",
     "locked": true,
     "points": 0,
     "schema_version": 3,
     "solution": false,
     "task": true
    },
    "tags": []
   },
   "source": [
    "# Problem 2-2\n",
    "\n",
    "Write a Python script that solves the following problem: A camera with a focal length of f = 50 mm is used to take a photo of a vertical column that is 12 m high and is 95 m away from the camera. Determine its height in the image in mm (a) and the number of pixels (b) assuming the camera has a resolution of 4000 dpi."
   ]
  },
  {
   "cell_type": "markdown",
   "id": "ab6e3dfc-4938-4bd6-8797-a3b8cffb8063",
   "metadata": {},
   "source": [
    "- Load an RGB image using Python. Use e.g. \"Miscellaneous/Pepper\" from https://sipi.usc.edu/database/database.php} and display it on the screen.\n",
    "- Create function(s) that convert the image to grayscale intensity values using averaging, lightness and luminance methods. Display the images.\n",
    "- Write your own function to calculate the histogram. Plot it.\n",
    "- Write your own function to calculate the cumulated histogram. Plot it.\n",
    "- *Optional:* Follow the pseudo code Alg. 3.1 from the textbook [1] on calculating integral images and implement it in Python. Try it on a test image and compare to results from existing function in Python or ImageJ. Is it possible to reconstruct the image from the first-order block sum $\\Sigma_1$?\n",
    "\n",
    "\n",
    "\n",
    "[1] W. Burger and M. J. Burge, <span style=\"font-style: italic\">Digital Image Processing</span>. Springer London, 2016. doi: 10.1007/978-1-4471-6684-9.\n",
    "\n",
    "\n"
   ]
  },
  {
   "cell_type": "code",
   "execution_count": null,
   "id": "cc7b5a75-eb68-484f-a913-218acc894e0d",
   "metadata": {},
   "outputs": [],
   "source": []
  }
 ],
 "metadata": {
  "kernelspec": {
   "display_name": "Python [conda env:oip]",
   "language": "python",
   "name": "conda-env-oip-py"
  },
  "language_info": {
   "codemirror_mode": {
    "name": "ipython",
    "version": 3
   },
   "file_extension": ".py",
   "mimetype": "text/x-python",
   "name": "python",
   "nbconvert_exporter": "python",
   "pygments_lexer": "ipython3",
   "version": "3.13.5"
  }
 },
 "nbformat": 4,
 "nbformat_minor": 5
}

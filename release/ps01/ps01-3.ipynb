{
 "cells": [
  {
   "cell_type": "markdown",
   "id": "46181c28",
   "metadata": {},
   "source": [
    "Before you turn this problem in, make sure everything runs as expected. First, **restart the kernel** (in the menubar, select Kernel $\\rightarrow$ Restart) and then **run all cells** (in the menubar, select Cell $\\rightarrow$ Run All).\n",
    "\n",
    "Make sure you fill in any place that says `YOUR CODE HERE` or \"YOUR ANSWER HERE\", as well as your name and collaborators below:"
   ]
  },
  {
   "cell_type": "code",
   "execution_count": null,
   "id": "c54504a7",
   "metadata": {},
   "outputs": [],
   "source": [
    "NAME = \"\"\n",
    "COLLABORATORS = \"\""
   ]
  },
  {
   "cell_type": "markdown",
   "id": "adb999fe",
   "metadata": {},
   "source": [
    "---"
   ]
  },
  {
   "cell_type": "markdown",
   "id": "aa62c45f-2174-45d9-a032-92ab475b641f",
   "metadata": {},
   "source": [
    "# Problem 1-3\n",
    "\n",
    "Within the course we will develop our own image processing library that can be used as an alternative and extension to existing libraries. We will set it up in way, that it can be packed and distributed at the end. Follow the steps below to get started:\n",
    "\n",
    "1) Within you working directory (the folder where you store all your notebook and pythons files during the semester...) create a folder called 'myoiplib'. \n",
    "2) Create an empty file inside 'myoiplib' that is called *\\_\\_init\\_\\_.py*. Without this file you won't be able to import the library.\n",
    "3) Also, in the same folder, create a file called 'imageprocessing.py'\n",
    "4) Open 'imageprocessing.py' and add a header containing at least your name and other information, e.g.:\n"
   ]
  },
  {
   "cell_type": "code",
   "execution_count": null,
   "id": "e0fed6eb-ce64-4040-aa42-0b8ed882f237",
   "metadata": {},
   "outputs": [],
   "source": [
    "\"\"\"This library has been developed by \n",
    "\n",
    "NAME \n",
    "\n",
    "as part of the course Optimisation and Imageprocessing (E25)\n",
    "at the University of Southern Denmark.\n",
    "\"\"\""
   ]
  },
  {
   "cell_type": "markdown",
   "id": "cd0fdca5-911d-4415-942d-633f2e0c2e30",
   "metadata": {},
   "source": [
    "5) Open 'imageprocessing.py' and import the Numpy library by adding the lines below and save the file."
   ]
  },
  {
   "cell_type": "code",
   "execution_count": null,
   "id": "29eaf91a-ee83-48a3-af27-4c109ef2dc52",
   "metadata": {},
   "outputs": [],
   "source": [
    "import numpy as np\n",
    "\n",
    "def hello():\n",
    "    print('Hello world!')"
   ]
  },
  {
   "cell_type": "markdown",
   "id": "02750701-d8f2-485e-a8f4-d4792e523c54",
   "metadata": {},
   "source": [
    "6) Now you can create a new Jupyter notebook in your working directory and import your own library by adding the line"
   ]
  },
  {
   "cell_type": "code",
   "execution_count": null,
   "id": "a5ecb491-c371-4e46-a638-4ea738178a92",
   "metadata": {},
   "outputs": [],
   "source": [
    "import myoiplib.imageprocessing as ip"
   ]
  },
  {
   "cell_type": "markdown",
   "id": "f76ea824-64a4-4adf-bf91-7beba0e027b7",
   "metadata": {},
   "source": [
    "7) You can call the function by adding the line"
   ]
  },
  {
   "cell_type": "code",
   "execution_count": null,
   "id": "1d1c50c2-747d-4055-94ce-18d06d8dbe04",
   "metadata": {},
   "outputs": [],
   "source": [
    "ip.hello()"
   ]
  },
  {
   "cell_type": "markdown",
   "id": "ba307668-7a2e-48a5-afe1-d56517d6aebd",
   "metadata": {},
   "source": [
    "All functions you will create within the first part of the course can be moved (maybe only after prototyping in Jupyter)  to 'imageprocessing.py' and be used within your exercises afterwards.\n",
    "\n",
    "For further reference, also how to build and distribute your library please read \\url(https://medium.com/analytics-vidhya/how-to-create-a-python-library-7d5aea80cc3f)."
   ]
  },
  {
   "cell_type": "code",
   "execution_count": null,
   "id": "df9b68dc-d4e0-4718-9d13-bc8b93303957",
   "metadata": {},
   "outputs": [],
   "source": []
  }
 ],
 "metadata": {
  "kernelspec": {
   "display_name": "Python [conda env:oip]",
   "language": "python",
   "name": "conda-env-oip-py"
  },
  "language_info": {
   "codemirror_mode": {
    "name": "ipython",
    "version": 3
   },
   "file_extension": ".py",
   "mimetype": "text/x-python",
   "name": "python",
   "nbconvert_exporter": "python",
   "pygments_lexer": "ipython3",
   "version": "3.13.5"
  }
 },
 "nbformat": 4,
 "nbformat_minor": 5
}

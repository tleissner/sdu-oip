{
 "cells": [
  {
   "cell_type": "markdown",
   "id": "f5478ace",
   "metadata": {},
   "source": [
    "Before you turn this problem in, make sure everything runs as expected. First, **restart the kernel** (in the menubar, select Kernel $\\rightarrow$ Restart) and then **run all cells** (in the menubar, select Cell $\\rightarrow$ Run All).\n",
    "\n",
    "Make sure you fill in any place that says `YOUR CODE HERE` or \"YOUR ANSWER HERE\", as well as your name and collaborators below:"
   ]
  },
  {
   "cell_type": "code",
   "execution_count": null,
   "id": "5c4d9195",
   "metadata": {},
   "outputs": [],
   "source": [
    "NAME = \"\"\n",
    "COLLABORATORS = \"\""
   ]
  },
  {
   "cell_type": "markdown",
   "id": "696a4308",
   "metadata": {},
   "source": [
    "---"
   ]
  },
  {
   "cell_type": "markdown",
   "id": "45e4c2fb-946f-469e-97d4-506d0d46ee5c",
   "metadata": {},
   "source": [
    "# Problem 1-2\n",
    "Create your own functions that perform the following operations on n-dim Numpy arrays\n",
    "\n",
    "- Transpose a matrix\n",
    "- Matrix-matrix multiplication\n",
    "- Outer vector product\n",
    "\n",
    "Try to avoid loops as much as possible. Benchmark their performance to built-in Numpy libraries. Add those functions to your library above."
   ]
  },
  {
   "cell_type": "code",
   "execution_count": null,
   "id": "a13f1c23-c454-4365-99b5-c56cb6cc3aaf",
   "metadata": {
    "slideshow": {
     "slide_type": "skip"
    },
    "tags": [
     "remove_cell"
    ]
   },
   "outputs": [],
   "source": [
    "import numpy as np\n",
    "import myoiplib.imageprocessing as ip"
   ]
  },
  {
   "cell_type": "markdown",
   "id": "a8f69607-b98a-4efc-a5d3-821b1f4072d3",
   "metadata": {},
   "source": [
    "## Transpose"
   ]
  },
  {
   "cell_type": "code",
   "execution_count": null,
   "id": "bad84bfe-8069-42fd-9a30-bdec5613d8d5",
   "metadata": {
    "deletable": false,
    "nbgrader": {
     "cell_type": "code",
     "checksum": "2c3d82b9857d7af45caf99dee3c21eda",
     "grade": true,
     "grade_id": "cell-4e3de7b9e0d787c3",
     "locked": false,
     "points": 0,
     "schema_version": 3,
     "solution": true,
     "task": false
    },
    "tags": []
   },
   "outputs": [],
   "source": [
    "# Generate two random matrices using numpy.random.randint() function\n",
    "\n",
    "# YOUR CODE HERE\n",
    "raise NotImplementedError()\n",
    "\n",
    "print(A,'\\n','\\n',B)"
   ]
  },
  {
   "cell_type": "code",
   "execution_count": null,
   "id": "9ed2c6db-95af-4c75-ae8a-2283b508eb50",
   "metadata": {
    "deletable": false,
    "nbgrader": {
     "cell_type": "code",
     "checksum": "359bf52c25793bb2819da2e1d2e9b5ef",
     "grade": true,
     "grade_id": "cell-bc0bf48f937480d9",
     "locked": false,
     "points": 0,
     "schema_version": 3,
     "solution": true,
     "task": false
    },
    "tags": []
   },
   "outputs": [],
   "source": [
    "# Use the built-in function to display the transposed the matrix A\n",
    "\n",
    "# YOUR CODE HERE\n",
    "raise NotImplementedError()"
   ]
  },
  {
   "cell_type": "code",
   "execution_count": null,
   "id": "7fd15182-ddbc-424f-9f82-3e631c71ab4e",
   "metadata": {
    "deletable": false,
    "nbgrader": {
     "cell_type": "code",
     "checksum": "50cc13b7c30fdfc2e79ce1658b30bb3c",
     "grade": true,
     "grade_id": "cell-3f94f7f20f98a1c0",
     "locked": false,
     "points": 0,
     "schema_version": 3,
     "solution": true,
     "task": false
    },
    "tags": []
   },
   "outputs": [],
   "source": [
    "# Use loop(s) to transpose the matrix A\n",
    "\n",
    "def matrixtranspose1(A):\n",
    "    # YOUR CODE HERE\n",
    "    raise NotImplementedError()\n",
    "    return AT\n",
    "    \n",
    "matrixtranspose1(A)"
   ]
  },
  {
   "cell_type": "code",
   "execution_count": null,
   "id": "62f4f024-ef39-4ab0-8092-768ff641fce8",
   "metadata": {
    "deletable": false,
    "nbgrader": {
     "cell_type": "code",
     "checksum": "c9a138ec60c58cce8118855034da89ee",
     "grade": true,
     "grade_id": "cell-055cde52aa1d8a06",
     "locked": false,
     "points": 0,
     "schema_version": 3,
     "solution": true,
     "task": false
    },
    "tags": []
   },
   "outputs": [],
   "source": [
    "# Use 1 list comprehension to transpose the matrix A  \n",
    "\n",
    "def matrixtranspose2(A):\n",
    "    # YOUR CODE HERE\n",
    "    raise NotImplementedError()\n",
    "    return AT\n",
    "    \n",
    "matrixtranspose2(A)"
   ]
  },
  {
   "cell_type": "code",
   "execution_count": null,
   "id": "afd23cb3-2fe4-4095-bf15-885fddc5b214",
   "metadata": {
    "deletable": false,
    "nbgrader": {
     "cell_type": "code",
     "checksum": "f1d53351caf2251d7b8512e3774d0a95",
     "grade": true,
     "grade_id": "cell-a2ea115932dd0695",
     "locked": false,
     "points": 0,
     "schema_version": 3,
     "solution": true,
     "task": false
    },
    "tags": []
   },
   "outputs": [],
   "source": [
    "# Use 2 list comprehensions to transpose the matrix A   - the Pythonic way :)\n",
    "\n",
    "def matrixtranspose3(A):\n",
    "    # YOUR CODE HERE\n",
    "    raise NotImplementedError()\n",
    "    \n",
    "print(matrixtranspose3(A))"
   ]
  },
  {
   "cell_type": "markdown",
   "id": "b7be41fd-1987-438b-a86a-a1614b3543c2",
   "metadata": {},
   "source": [
    "## Matrix-matrix multiplication"
   ]
  },
  {
   "cell_type": "code",
   "execution_count": null,
   "id": "977e43ad-14a2-497f-b2e0-d51be4fac1b8",
   "metadata": {
    "deletable": false,
    "nbgrader": {
     "cell_type": "code",
     "checksum": "1c5f17b4fd1fbcab76533ad0c23c28e2",
     "grade": true,
     "grade_id": "cell-aff1c148eb85b7cf",
     "locked": false,
     "points": 0,
     "schema_version": 3,
     "solution": true,
     "task": false
    },
    "tags": []
   },
   "outputs": [],
   "source": [
    "# Generate two random matrices using numpy.random.randint() function\n",
    "\n",
    "# YOUR CODE HERE\n",
    "raise NotImplementedError()\n",
    "\n",
    "print(A,'\\n','\\n',B)"
   ]
  },
  {
   "cell_type": "code",
   "execution_count": null,
   "id": "923c778d-ce6e-47be-ba08-f2f72ee87cd0",
   "metadata": {
    "deletable": false,
    "nbgrader": {
     "cell_type": "code",
     "checksum": "fe0bd6eed13508f37b08ceccd8dd15b2",
     "grade": true,
     "grade_id": "cell-2f071bce0877de46",
     "locked": false,
     "points": 0,
     "schema_version": 3,
     "solution": true,
     "task": false
    },
    "tags": []
   },
   "outputs": [],
   "source": [
    "# built-in function using the @ operator\n",
    "\n",
    "# YOUR CODE HERE\n",
    "raise NotImplementedError()"
   ]
  },
  {
   "cell_type": "code",
   "execution_count": null,
   "id": "2acf0b9d-7c89-40cd-bcea-f259f80b4799",
   "metadata": {
    "deletable": false,
    "nbgrader": {
     "cell_type": "code",
     "checksum": "8256aaabd4eb9563a518710d997cef82",
     "grade": true,
     "grade_id": "cell-1c65ba152395b071",
     "locked": false,
     "points": 0,
     "schema_version": 3,
     "solution": true,
     "task": false
    },
    "tags": []
   },
   "outputs": [],
   "source": [
    "# using for loops\n",
    "\n",
    "def matrixmult(A,B):\n",
    "    # YOUR CODE HERE\n",
    "    raise NotImplementedError()\n",
    "    return C\n",
    " \n",
    "\n",
    "matrixmult(A,B)"
   ]
  },
  {
   "cell_type": "code",
   "execution_count": null,
   "id": "c991655e-1541-4bee-8b04-c1455e557d44",
   "metadata": {
    "deletable": false,
    "nbgrader": {
     "cell_type": "code",
     "checksum": "3aeddca38b1a3d5e7201f78b9498a172",
     "grade": true,
     "grade_id": "cell-72c0e0c5890ac440",
     "locked": false,
     "points": 0,
     "schema_version": 3,
     "solution": true,
     "task": false
    },
    "tags": []
   },
   "outputs": [],
   "source": [
    "# Using list comprehension:\n",
    "\n",
    "def matrixmult2(A,B):\n",
    "    # YOUR CODE HERE\n",
    "    raise NotImplementedError()\n",
    "    \n",
    "matrixmult2(A,B)"
   ]
  },
  {
   "cell_type": "code",
   "execution_count": null,
   "id": "62acba0a-4ad3-41dc-938f-5859e4383e48",
   "metadata": {},
   "outputs": [],
   "source": [
    "# Hint: You might want to use the zip(*B) expression:\n",
    "# The asterisk, *, or unpacking operator, unpacks num_list, \n",
    "#and passes the values, or elements, of num_list as separate arguments to the function.\n",
    "# The zip() function takes iterables, aggregates them in a tuple, and returns it.\n",
    "\n",
    "print(B)\n",
    "print(*B)\n",
    "\n",
    "for B_col in zip(*B):\n",
    "    print(B_col)"
   ]
  },
  {
   "cell_type": "markdown",
   "id": "c9a75466-becb-41a0-9e67-f8db9ff31f1d",
   "metadata": {},
   "source": [
    "## Outer-vector product"
   ]
  },
  {
   "cell_type": "code",
   "execution_count": null,
   "id": "17ece4a4-903a-441d-b5fe-78dbf96dfe84",
   "metadata": {
    "deletable": false,
    "nbgrader": {
     "cell_type": "code",
     "checksum": "e3e53ddb85d78fafc575564d53ac5f95",
     "grade": true,
     "grade_id": "cell-18e8da2bc7508743",
     "locked": false,
     "points": 0,
     "schema_version": 3,
     "solution": true,
     "task": false
    },
    "tags": []
   },
   "outputs": [],
   "source": [
    "# generate two random vectors using numpy.random.randint() function\n",
    "\n",
    "# YOUR CODE HERE\n",
    "raise NotImplementedError()\n",
    "print(a,b)"
   ]
  },
  {
   "cell_type": "code",
   "execution_count": null,
   "id": "887d86c8-468f-4b51-a17f-ad49be2a7060",
   "metadata": {
    "deletable": false,
    "nbgrader": {
     "cell_type": "code",
     "checksum": "4ddab1e9cd57e0c6663a905ec366a2fe",
     "grade": true,
     "grade_id": "cell-f1a7b8d66c2367a7",
     "locked": false,
     "points": 0,
     "schema_version": 3,
     "solution": true,
     "task": false
    },
    "tags": []
   },
   "outputs": [],
   "source": [
    "# built-in function\n",
    "\n",
    "# YOUR CODE HERE\n",
    "raise NotImplementedError()"
   ]
  },
  {
   "cell_type": "code",
   "execution_count": null,
   "id": "6bed73b0-d369-497a-8a27-a3f3196213ba",
   "metadata": {
    "deletable": false,
    "nbgrader": {
     "cell_type": "code",
     "checksum": "4e8b5eb95a91a04f5c4ae153ea251808",
     "grade": true,
     "grade_id": "cell-1b91de28104e433a",
     "locked": false,
     "points": 0,
     "schema_version": 3,
     "solution": true,
     "task": false
    },
    "tags": []
   },
   "outputs": [],
   "source": [
    "# Using loops\n",
    "def outerproduct(a, b):\n",
    "    # YOUR CODE HERE\n",
    "    raise NotImplementedError()\n",
    "    return result"
   ]
  },
  {
   "cell_type": "code",
   "execution_count": null,
   "id": "435bf89d-bb49-459c-b3f6-c128f1da9240",
   "metadata": {},
   "outputs": [],
   "source": [
    "print(outerproduct(a,b))\n",
    "print(type(outerproduct(a,b)[0,0]))"
   ]
  },
  {
   "cell_type": "markdown",
   "id": "8cf0d476-0818-4182-8fbf-faefa4820b3b",
   "metadata": {},
   "source": [
    "## Lets do some benchmarking ..."
   ]
  },
  {
   "cell_type": "code",
   "execution_count": null,
   "id": "6ced8591-a976-4865-ba18-bd3ddc919e31",
   "metadata": {},
   "outputs": [],
   "source": [
    "# Transposing a matrix\n",
    "\n",
    "A = np.random.randint(low=0, high=10, size=(10, 10))\n",
    "%timeit -r 4 -n 10000 matrixtranspose1(A)\n",
    "%timeit -r 4 -n 10000 matrixtranspose2(A)\n",
    "%timeit -r 4 -n 10000 matrixtranspose3(A)\n",
    "%timeit -r 4 -n 10000 A.T"
   ]
  },
  {
   "cell_type": "markdown",
   "id": "4289d0b8",
   "metadata": {},
   "source": []
  },
  {
   "cell_type": "code",
   "execution_count": null,
   "id": "9277b5d9-be42-4655-8870-1d1e517818b9",
   "metadata": {
    "deletable": false,
    "nbgrader": {
     "cell_type": "code",
     "checksum": "9a1b41a6ca1b2104b5d0c2a006da59dc",
     "grade": true,
     "grade_id": "cell-3be1aff50a12448d",
     "locked": false,
     "points": 0,
     "schema_version": 3,
     "solution": true,
     "task": false
    },
    "tags": []
   },
   "outputs": [],
   "source": [
    "# Outer product\n",
    "\n",
    "# YOUR CODE HERE\n",
    "raise NotImplementedError()"
   ]
  },
  {
   "cell_type": "code",
   "execution_count": null,
   "id": "4fe69941-7516-4f08-b6ea-9d08b3be0603",
   "metadata": {
    "deletable": false,
    "nbgrader": {
     "cell_type": "code",
     "checksum": "8222ae80f6d2223917a8bfb90195a160",
     "grade": true,
     "grade_id": "cell-56b58769c0d7e519",
     "locked": false,
     "points": 0,
     "schema_version": 3,
     "solution": true,
     "task": false
    },
    "tags": []
   },
   "outputs": [],
   "source": [
    "# Matrix-matrix multiplication\n",
    "\n",
    "# YOUR CODE HERE\n",
    "raise NotImplementedError()"
   ]
  },
  {
   "cell_type": "code",
   "execution_count": null,
   "id": "8494c1fb-88e0-4909-a184-9fe6de82067c",
   "metadata": {},
   "outputs": [],
   "source": []
  }
 ],
 "metadata": {
  "kernelspec": {
   "display_name": "Python [conda env:oip]",
   "language": "python",
   "name": "conda-env-oip-py"
  },
  "language_info": {
   "codemirror_mode": {
    "name": "ipython",
    "version": 3
   },
   "file_extension": ".py",
   "mimetype": "text/x-python",
   "name": "python",
   "nbconvert_exporter": "python",
   "pygments_lexer": "ipython3",
   "version": "3.13.5"
  },
  "toc": {
   "base_numbering": 1,
   "nav_menu": {},
   "number_sections": true,
   "sideBar": true,
   "skip_h1_title": false,
   "title_cell": "Table of Contents",
   "title_sidebar": "Contents",
   "toc_cell": true,
   "toc_position": {},
   "toc_section_display": true,
   "toc_window_display": false
  },
  "varInspector": {
   "cols": {
    "lenName": 16,
    "lenType": 16,
    "lenVar": 40
   },
   "kernels_config": {
    "python": {
     "delete_cmd_postfix": "",
     "delete_cmd_prefix": "del ",
     "library": "var_list.py",
     "varRefreshCmd": "print(var_dic_list())"
    },
    "r": {
     "delete_cmd_postfix": ") ",
     "delete_cmd_prefix": "rm(",
     "library": "var_list.r",
     "varRefreshCmd": "cat(var_dic_list()) "
    }
   },
   "types_to_exclude": [
    "module",
    "function",
    "builtin_function_or_method",
    "instance",
    "_Feature"
   ],
   "window_display": false
  }
 },
 "nbformat": 4,
 "nbformat_minor": 5
}

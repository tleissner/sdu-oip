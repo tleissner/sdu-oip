{
 "cells": [
  {
   "cell_type": "markdown",
   "id": "e3ce0eb7",
   "metadata": {},
   "source": [
    "Before you turn this problem in, make sure everything runs as expected. First, **restart the kernel** (in the menubar, select Kernel $\\rightarrow$ Restart) and then **run all cells** (in the menubar, select Cell $\\rightarrow$ Run All).\n",
    "\n",
    "Make sure you fill in any place that says `YOUR CODE HERE` or \"YOUR ANSWER HERE\", as well as your name and collaborators below:"
   ]
  },
  {
   "cell_type": "code",
   "execution_count": null,
   "id": "1a7afb9c",
   "metadata": {},
   "outputs": [],
   "source": [
    "NAME = \"\"\n",
    "COLLABORATORS = \"\""
   ]
  },
  {
   "cell_type": "markdown",
   "id": "6e03dfc4",
   "metadata": {},
   "source": [
    "---"
   ]
  },
  {
   "cell_type": "markdown",
   "id": "8a3ecef9-a576-4ab2-b0b6-d1e4c6f7e6e0",
   "metadata": {
    "editable": true,
    "slideshow": {
     "slide_type": ""
    },
    "tags": []
   },
   "source": [
    "# Problem 1-1\n",
    "\n",
    "Set up a local Python environment with Jupyter lab. I recommend to install Anaconda Python if you don't have an existing environment. Start Jupyter and open the notebook from the lecture and make sure it works on your device. You might need to install some missing libraries, e.g. NumPy."
   ]
  },
  {
   "cell_type": "code",
   "execution_count": null,
   "id": "e9417958-45b2-43f2-9ff6-b981e20bf574",
   "metadata": {
    "deletable": false,
    "nbgrader": {
     "cell_type": "code",
     "checksum": "b2547961e0b2784e173720f5712de04d",
     "grade": false,
     "grade_id": "cell-b80e81a83dcd0c16",
     "locked": false,
     "schema_version": 3,
     "solution": true,
     "task": false
    },
    "tags": []
   },
   "outputs": [],
   "source": [
    "# YOUR CODE HERE\n",
    "raise NotImplementedError()"
   ]
  },
  {
   "cell_type": "markdown",
   "id": "8859a796-b056-402a-a320-f1a38b8b6199",
   "metadata": {},
   "source": [
    "# Problem 1-2\n",
    "\n",
    "Find your SDU cloud username as pointed out in the lecture and send it to the teacher via itslearning. We can use SDU cloud as an alternative to a local installation. However, make sure you have a local installation as backup (also for the exam...)"
   ]
  },
  {
   "cell_type": "code",
   "execution_count": null,
   "id": "a566fe3d-db65-4957-9e9a-f7b3cc408374",
   "metadata": {
    "deletable": false,
    "nbgrader": {
     "cell_type": "code",
     "checksum": "6d4fc1d54259d85c6454ff81adb0fe2c",
     "grade": false,
     "grade_id": "cell-f734824334d64ad5",
     "locked": false,
     "schema_version": 3,
     "solution": true,
     "task": false
    },
    "tags": []
   },
   "outputs": [],
   "source": [
    "# YOUR CODE HERE\n",
    "raise NotImplementedError()"
   ]
  }
 ],
 "metadata": {
  "kernelspec": {
   "display_name": "Python [conda env:oip]",
   "language": "python",
   "name": "conda-env-oip-py"
  },
  "language_info": {
   "codemirror_mode": {
    "name": "ipython",
    "version": 3
   },
   "file_extension": ".py",
   "mimetype": "text/x-python",
   "name": "python",
   "nbconvert_exporter": "python",
   "pygments_lexer": "ipython3",
   "version": "3.13.5"
  }
 },
 "nbformat": 4,
 "nbformat_minor": 5
}
